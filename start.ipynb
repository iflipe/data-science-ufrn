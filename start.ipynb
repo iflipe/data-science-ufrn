{
 "cells": [
  {
   "cell_type": "code",
   "execution_count": 115,
   "id": "75878de8",
   "metadata": {},
   "outputs": [
    {
     "name": "stderr",
     "output_type": "stream",
     "text": [
      "C:\\Users\\Filipe\\AppData\\Local\\Temp\\ipykernel_27176\\2797724655.py:18: DtypeWarning: Columns (4,5,6,12) have mixed types. Specify dtype option on import or set low_memory=False.\n",
      "  df = pd.read_csv('assets/BancoVDE 2024.csv', sep=';')\n"
     ]
    },
    {
     "name": "stdout",
     "output_type": "stream",
     "text": [
      "Foram removidas 0 linhas duplicadas.\n"
     ]
    }
   ],
   "source": [
    "import pandas as pd\n",
    "from ydata_profiling import ProfileReport\n",
    "\n",
    "# Remove linhas duplicadas\n",
    "def remover_duplicatas(df):\n",
    "    tamanho_antes = df.shape[0]\n",
    "    df = df.drop_duplicates()\n",
    "    tamanho_depois = df.shape[0]\n",
    "    print(f\"Foram removidas {tamanho_antes - tamanho_depois} linhas duplicadas.\")\n",
    "    return df\n",
    "\n",
    "# Função auxiliar: Normaliza colunas numéricas\n",
    "def normalizar_colunas(df, colunas):\n",
    "    for col in colunas:\n",
    "        df[col] = (df[col] - df[col].min()) / (df[col].max() - df[col].min())\n",
    "    return df\n",
    "\n",
    "df = pd.read_csv('assets/BancoVDE 2024.csv', sep=';')\n",
    "df = df.drop(columns=['formulario', 'abrangencia'])\n",
    "df = remover_duplicatas(df)"
   ]
  },
  {
   "cell_type": "code",
   "execution_count": 116,
   "id": "b19ce97e",
   "metadata": {
    "vscode": {
     "languageId": "ruby"
    }
   },
   "outputs": [],
   "source": [
    "df = df[~df['evento'].isin([\n",
    "    'Atendimento pré-hospitalar',\n",
    "    'Busca e salvamento',\n",
    "    'Combate a incêndios',\n",
    "    'Emissão de Alvarás de licença',\n",
    "    'Realização de vistorias',\n",
    "    'Suicídio de Agente do Estado',\n",
    "    'Tentativa de feminicídio',\n",
    "    'Roubo a instituição financeira',\n",
    "    'Roubo de carga',\n",
    "    'Roubo de veículo',\n",
    "    'Tentativa de homicídio',\n",
    "    'Mortes a esclarecer (sem indício de crime)'\n",
    "])]"
   ]
  },
  {
   "cell_type": "code",
   "execution_count": 117,
   "id": "9e533926",
   "metadata": {},
   "outputs": [
    {
     "name": "stdout",
     "output_type": "stream",
     "text": [
      "['Apreensão de Cocaína' 'Apreensão de Maconha' 'Arma de Fogo Apreendida'\n",
      " 'Estupro' 'Estupro de vulnerável' 'Feminicídio' 'Furto de veículo'\n",
      " 'Homicídio doloso' 'Lesão corporal seguida de morte'\n",
      " 'Mandado de prisão cumprido' 'Morte de Agente do Estado'\n",
      " 'Morte no trânsito ou em decorrência dele (exceto homicídio doloso)'\n",
      " 'Morte por intervenção de Agente do Estado' 'Pessoa Desaparecida'\n",
      " 'Pessoa Localizada' 'Roubo seguido de morte (latrocínio)' 'Suicídio'\n",
      " 'Tráfico de drogas']\n"
     ]
    }
   ],
   "source": [
    "print(df['evento'].unique())"
   ]
  },
  {
   "cell_type": "code",
   "execution_count": 118,
   "id": "0d1f94d6",
   "metadata": {},
   "outputs": [
    {
     "name": "stdout",
     "output_type": "stream",
     "text": [
      "482880\n",
      "Index(['uf', 'municipio', 'evento', 'data_referencia', 'agente', 'arma',\n",
      "       'faixa_etaria', 'feminino', 'masculino', 'nao_informado',\n",
      "       'total_vitima', 'total', 'total_peso'],\n",
      "      dtype='object')\n"
     ]
    }
   ],
   "source": [
    "print(df.shape[0])\n",
    "print(df.columns)"
   ]
  },
  {
   "cell_type": "code",
   "execution_count": 119,
   "id": "6b96fc1b",
   "metadata": {},
   "outputs": [
    {
     "name": "stdout",
     "output_type": "stream",
     "text": [
      "Evento: Apreensão de Cocaína\n",
      "(324, 5)\n",
      "Index(['uf', 'municipio', 'evento', 'data_referencia', 'total_peso'], dtype='object')\n",
      "----------------------------------------\n",
      "Evento: Apreensão de Maconha\n",
      "(324, 5)\n",
      "Index(['uf', 'municipio', 'evento', 'data_referencia', 'total_peso'], dtype='object')\n",
      "----------------------------------------\n",
      "Evento: Arma de Fogo Apreendida\n",
      "(2916, 6)\n",
      "Index(['uf', 'municipio', 'evento', 'data_referencia', 'arma', 'total'], dtype='object')\n",
      "----------------------------------------\n",
      "Evento: Estupro\n",
      "(324, 8)\n",
      "Index(['uf', 'municipio', 'evento', 'data_referencia', 'feminino', 'masculino',\n",
      "       'nao_informado', 'total_vitima'],\n",
      "      dtype='object')\n",
      "----------------------------------------\n",
      "Evento: Estupro de vulnerável\n",
      "(324, 8)\n",
      "Index(['uf', 'municipio', 'evento', 'data_referencia', 'feminino', 'masculino',\n",
      "       'nao_informado', 'total_vitima'],\n",
      "      dtype='object')\n",
      "----------------------------------------\n",
      "Evento: Feminicídio\n",
      "(67548, 8)\n",
      "Index(['uf', 'municipio', 'evento', 'data_referencia', 'feminino', 'masculino',\n",
      "       'nao_informado', 'total_vitima'],\n",
      "      dtype='object')\n",
      "----------------------------------------\n",
      "Evento: Furto de veículo\n",
      "(324, 5)\n",
      "Index(['uf', 'municipio', 'evento', 'data_referencia', 'total'], dtype='object')\n",
      "----------------------------------------\n",
      "Evento: Homicídio doloso\n",
      "(67548, 8)\n",
      "Index(['uf', 'municipio', 'evento', 'data_referencia', 'feminino', 'masculino',\n",
      "       'nao_informado', 'total_vitima'],\n",
      "      dtype='object')\n",
      "----------------------------------------\n",
      "Evento: Lesão corporal seguida de morte\n",
      "(67548, 8)\n",
      "Index(['uf', 'municipio', 'evento', 'data_referencia', 'feminino', 'masculino',\n",
      "       'nao_informado', 'total_vitima'],\n",
      "      dtype='object')\n",
      "----------------------------------------\n",
      "Evento: Mandado de prisão cumprido\n",
      "(67548, 5)\n",
      "Index(['uf', 'municipio', 'evento', 'data_referencia', 'total'], dtype='object')\n",
      "----------------------------------------\n",
      "Evento: Morte de Agente do Estado\n",
      "(2916, 9)\n",
      "Index(['uf', 'municipio', 'evento', 'data_referencia', 'agente', 'feminino',\n",
      "       'masculino', 'nao_informado', 'total_vitima'],\n",
      "      dtype='object')\n",
      "----------------------------------------\n",
      "Evento: Morte no trânsito ou em decorrência dele (exceto homicídio doloso)\n",
      "(67548, 8)\n",
      "Index(['uf', 'municipio', 'evento', 'data_referencia', 'feminino', 'masculino',\n",
      "       'nao_informado', 'total_vitima'],\n",
      "      dtype='object')\n",
      "----------------------------------------\n",
      "Evento: Morte por intervenção de Agente do Estado\n",
      "(324, 8)\n",
      "Index(['uf', 'municipio', 'evento', 'data_referencia', 'feminino', 'masculino',\n",
      "       'nao_informado', 'total_vitima'],\n",
      "      dtype='object')\n",
      "----------------------------------------\n",
      "Evento: Pessoa Desaparecida\n",
      "(972, 9)\n",
      "Index(['uf', 'municipio', 'evento', 'data_referencia', 'faixa_etaria',\n",
      "       'feminino', 'masculino', 'nao_informado', 'total_vitima'],\n",
      "      dtype='object')\n",
      "----------------------------------------\n",
      "Evento: Pessoa Localizada\n",
      "(972, 9)\n",
      "Index(['uf', 'municipio', 'evento', 'data_referencia', 'faixa_etaria',\n",
      "       'feminino', 'masculino', 'nao_informado', 'total_vitima'],\n",
      "      dtype='object')\n",
      "----------------------------------------\n",
      "Evento: Roubo seguido de morte (latrocínio)\n",
      "(67548, 8)\n",
      "Index(['uf', 'municipio', 'evento', 'data_referencia', 'feminino', 'masculino',\n",
      "       'nao_informado', 'total_vitima'],\n",
      "      dtype='object')\n",
      "----------------------------------------\n",
      "Evento: Suicídio\n",
      "(67548, 8)\n",
      "Index(['uf', 'municipio', 'evento', 'data_referencia', 'feminino', 'masculino',\n",
      "       'nao_informado', 'total_vitima'],\n",
      "      dtype='object')\n",
      "----------------------------------------\n",
      "Evento: Tráfico de drogas\n",
      "(324, 5)\n",
      "Index(['uf', 'municipio', 'evento', 'data_referencia', 'total'], dtype='object')\n",
      "----------------------------------------\n",
      "67548 linhas: ['Feminicídio', 'Homicídio doloso', 'Lesão corporal seguida de morte', 'Mandado de prisão cumprido', 'Morte no trânsito ou em decorrência dele (exceto homicídio doloso)', 'Roubo seguido de morte (latrocínio)', 'Suicídio']\n",
      "2916 linhas: ['Arma de Fogo Apreendida', 'Morte de Agente do Estado']\n",
      "972 linhas: ['Pessoa Desaparecida', 'Pessoa Localizada']\n",
      "324 linhas: ['Apreensão de Cocaína', 'Apreensão de Maconha', 'Estupro', 'Estupro de vulnerável', 'Furto de veículo', 'Morte por intervenção de Agente do Estado', 'Tráfico de drogas']\n"
     ]
    }
   ],
   "source": [
    "# Dicionário para armazenar dataframes por 'evento'\n",
    "from collections import defaultdict\n",
    "\n",
    "sub_dfs = {}\n",
    "\n",
    "# Itera sobre valores únicos de 'evento' e cria dataframes limpos\n",
    "for evento in df['evento'].unique():\n",
    "    sub_df = df[df['evento'] == evento].copy()\n",
    "    # Remove colunas totalmente NaN para este nicho\n",
    "    sub_df = sub_df.dropna(axis=1, how='all')\n",
    "    sub_dfs[evento] = sub_df\n",
    "\n",
    "# Imprime o shape e as colunas de cada sub_df\n",
    "for evento, sub_df in sub_dfs.items():\n",
    "    print(f\"Evento: {evento}\")\n",
    "    print(sub_df.shape)\n",
    "    print(sub_df.columns)\n",
    "    print('-' * 40)\n",
    "\n",
    "# Agrupa eventos pelo número de linhas em seu sub_df\n",
    "grupos_linhas = defaultdict(list)\n",
    "for evento, sub_df in sub_dfs.items():\n",
    "    grupos_linhas[sub_df.shape[0]].append(evento)\n",
    "\n",
    "# Imprime o agrupamento\n",
    "for n_linhas, eventos in sorted(grupos_linhas.items(), reverse=True):\n",
    "    print(f\"{n_linhas} linhas: {eventos}\")\n"
   ]
  },
  {
   "cell_type": "code",
   "execution_count": 55,
   "id": "1958af63",
   "metadata": {},
   "outputs": [],
   "source": [
    "sub_dfs['Arma de Fogo Apreendida'] = sub_dfs['Arma de Fogo Apreendida'].groupby(['uf', 'data_referencia'])['total'].sum().reset_index()\n",
    "sub_dfs['Morte de Agente do Estado'] = sub_dfs['Morte de Agente do Estado'].groupby(['uf', 'data_referencia'])['total_vitima'].sum().reset_index()\n",
    "sub_dfs['Pessoa Desaparecida'] = sub_dfs['Pessoa Desaparecida'].groupby(['uf', 'data_referencia'])['total_vitima'].sum().reset_index()\n",
    "sub_dfs['Pessoa Localizada'] = sub_dfs['Pessoa Localizada'].groupby(['uf', 'data_referencia'])['total_vitima'].sum().reset_index()"
   ]
  },
  {
   "cell_type": "code",
   "execution_count": 56,
   "id": "9cfa5c30",
   "metadata": {},
   "outputs": [],
   "source": [
    "grupos_linhas[324].extend(['Arma de Fogo Apreendida','Morte de Agente do Estado','Pessoa Desaparecida', 'Pessoa Localizada'])"
   ]
  },
  {
   "cell_type": "code",
   "execution_count": null,
   "id": "ce23fbd2",
   "metadata": {},
   "outputs": [],
   "source": []
  },
  {
   "cell_type": "code",
   "execution_count": 120,
   "id": "78c53953",
   "metadata": {},
   "outputs": [],
   "source": [
    "for evento in grupos_linhas[67548]:\n",
    "    sub_dfs[evento] = sub_dfs[evento][sub_dfs[evento]['municipio'] != 'NÃO INFORMADO']\n",
    "    "
   ]
  },
  {
   "cell_type": "code",
   "execution_count": 121,
   "id": "4e10b499",
   "metadata": {},
   "outputs": [
    {
     "name": "stdout",
     "output_type": "stream",
     "text": [
      "Evento: Apreensão de Cocaína\n",
      "Index(['uf', 'evento', 'data_referencia', 'total_peso'], dtype='object')\n",
      "Evento: Apreensão de Maconha\n",
      "Index(['uf', 'evento', 'data_referencia', 'total_peso'], dtype='object')\n",
      "Evento: Estupro\n",
      "Index(['uf', 'data_referencia', 'total_vitima'], dtype='object')\n",
      "Evento: Estupro de vulnerável\n",
      "Index(['uf', 'data_referencia', 'total_vitima'], dtype='object')\n",
      "Evento: Furto de veículo\n",
      "Index(['uf', 'data_referencia', 'total'], dtype='object')\n",
      "Evento: Morte por intervenção de Agente do Estado\n",
      "Index(['uf', 'data_referencia', 'total_vitima'], dtype='object')\n",
      "Evento: Tráfico de drogas\n",
      "Index(['uf', 'data_referencia', 'total'], dtype='object')\n",
      "Evento: Arma de Fogo Apreendida\n",
      "Index(['uf', 'data_referencia', 'total'], dtype='object')\n",
      "Evento: Morte de Agente do Estado\n",
      "Index(['uf', 'data_referencia', 'total_vitima'], dtype='object')\n",
      "Evento: Pessoa Desaparecida\n",
      "Index(['uf', 'data_referencia', 'total_vitima'], dtype='object')\n",
      "Evento: Pessoa Localizada\n",
      "Index(['uf', 'data_referencia', 'total_vitima'], dtype='object')\n"
     ]
    }
   ],
   "source": [
    "for evento in grupos_linhas[324] + grupos_linhas[2916] + grupos_linhas[972]:\n",
    "    print(f\"Evento: {evento}\")\n",
    "    if 'total' in sub_dfs[evento].columns:\n",
    "        sub_dfs[evento] = sub_dfs[evento].groupby(['uf', 'data_referencia'])['total'].sum().reset_index()\n",
    "    if 'total_vitima' in sub_dfs[evento].columns:\n",
    "        sub_dfs[evento] = sub_dfs[evento].groupby(['uf', 'data_referencia'])['total_vitima'].sum().reset_index()\n",
    "    sub_dfs[evento].drop(columns=['municipio'], inplace=True, errors='ignore')\n",
    "    print(sub_dfs[evento].columns)"
   ]
  },
  {
   "cell_type": "code",
   "execution_count": 122,
   "id": "4ad376eb",
   "metadata": {},
   "outputs": [],
   "source": [
    "grupos_linhas[324].extend(grupos_linhas[2916] + grupos_linhas[972])"
   ]
  },
  {
   "cell_type": "code",
   "execution_count": 123,
   "id": "4d6e97d5",
   "metadata": {},
   "outputs": [],
   "source": [
    "from functools import reduce\n",
    "\n",
    "# Combina os dataframes para eventos em grupos_linhas[324]\n",
    "dfs = []\n",
    "for evento in grupos_linhas[324]:\n",
    "    df_evento = sub_dfs[evento].copy()\n",
    "    # Remove a coluna 'evento' se existir\n",
    "    if 'evento' in df_evento.columns:\n",
    "        df_evento = df_evento.drop(columns=['evento'])\n",
    "    # Minúsculas e normaliza o nome do evento para prefixo de coluna\n",
    "    prefixo = evento.lower().replace('ã', 'a').replace('é', 'e').replace('í', 'i').replace('ó', 'o').replace('ú', 'u').replace('ç', 'c')\n",
    "    # Renomeia colunas exceto 'uf' e 'data_referencia'\n",
    "    novas_colunas = {}\n",
    "    for col in df_evento.columns:\n",
    "        if col not in ['uf', 'data_referencia']:\n",
    "            novas_colunas[col] = f\"{prefixo}\"\n",
    "    df_evento = df_evento.rename(columns=novas_colunas)\n",
    "    dfs.append(df_evento.set_index(['uf', 'data_referencia']))\n",
    "\n",
    "# Faz o merge de todos pelo índice\n",
    "dados_estaduais_agregados = reduce(lambda esquerda, direita: esquerda.join(direita, how='outer'), dfs)\n",
    "dados_estaduais_agregados.reset_index(inplace=True)\n",
    "_, dados_estaduais_agregados['data_referencia'], _ = zip(*dados_estaduais_agregados['data_referencia'].str.split('/').to_list())"
   ]
  },
  {
   "cell_type": "code",
   "execution_count": 127,
   "id": "b6b8293b",
   "metadata": {},
   "outputs": [
    {
     "data": {
      "text/plain": [
       "Index(['uf', 'data_referencia', 'apreensao de cocaina', 'apreensao de maconha',\n",
       "       'estupro', 'estupro de vulnerável', 'furto de veiculo',\n",
       "       'morte por intervencao de agente do estado', 'tráfico de drogas',\n",
       "       'arma de fogo apreendida', 'morte de agente do estado',\n",
       "       'pessoa desaparecida', 'pessoa localizada'],\n",
       "      dtype='object')"
      ]
     },
     "execution_count": 127,
     "metadata": {},
     "output_type": "execute_result"
    }
   ],
   "source": [
    "dados_estaduais_agregados.columns"
   ]
  },
  {
   "cell_type": "code",
   "execution_count": null,
   "id": "cfaff6c4",
   "metadata": {},
   "outputs": [
    {
     "ename": "ValueError",
     "evalue": "Could not interpret value `x` for `x`. An entry with this name does not appear in `data`.",
     "output_type": "error",
     "traceback": [
      "\u001b[31m---------------------------------------------------------------------------\u001b[39m",
      "\u001b[31mValueError\u001b[39m                                Traceback (most recent call last)",
      "\u001b[36mCell\u001b[39m\u001b[36m \u001b[39m\u001b[32mIn[131]\u001b[39m\u001b[32m, line 21\u001b[39m\n\u001b[32m     14\u001b[39m sns.lineplot(\n\u001b[32m     15\u001b[39m     data=df_maconha,\n\u001b[32m     16\u001b[39m     x=\u001b[33m'\u001b[39m\u001b[33mdata_referencia\u001b[39m\u001b[33m'\u001b[39m,\n\u001b[32m     17\u001b[39m     y=\u001b[33m'\u001b[39m\u001b[33mapreensao de maconha\u001b[39m\u001b[33m'\u001b[39m,\n\u001b[32m     18\u001b[39m     hue=\u001b[33m'\u001b[39m\u001b[33muf\u001b[39m\u001b[33m'\u001b[39m,\n\u001b[32m     19\u001b[39m )\n\u001b[32m     20\u001b[39m \u001b[38;5;28;01mwith\u001b[39;00m sns.axes_style(\u001b[33m'\u001b[39m\u001b[33mwhite\u001b[39m\u001b[33m'\u001b[39m):\n\u001b[32m---> \u001b[39m\u001b[32m21\u001b[39m     \u001b[43msns\u001b[49m\u001b[43m.\u001b[49m\u001b[43mjointplot\u001b[49m\u001b[43m(\u001b[49m\u001b[43mx\u001b[49m\u001b[43m=\u001b[49m\u001b[33;43m\"\u001b[39;49m\u001b[33;43mx\u001b[39;49m\u001b[33;43m\"\u001b[39;49m\u001b[43m,\u001b[49m\u001b[43m \u001b[49m\u001b[43my\u001b[49m\u001b[43m=\u001b[49m\u001b[33;43m\"\u001b[39;49m\u001b[33;43my\u001b[39;49m\u001b[33;43m\"\u001b[39;49m\u001b[43m,\u001b[49m\u001b[43m \u001b[49m\u001b[43mdata\u001b[49m\u001b[43m=\u001b[49m\u001b[43mdf_maconha\u001b[49m\u001b[43m[\u001b[49m\u001b[43m[\u001b[49m\u001b[33;43m'\u001b[39;49m\u001b[33;43mtráfico de drogas\u001b[39;49m\u001b[33;43m'\u001b[39;49m\u001b[43m,\u001b[49m\u001b[43m \u001b[49m\u001b[33;43m'\u001b[39;49m\u001b[33;43marma de fogo apreendida\u001b[39;49m\u001b[33;43m'\u001b[39;49m\u001b[43m]\u001b[49m\u001b[43m]\u001b[49m\u001b[43m,\u001b[49m\u001b[43m \u001b[49m\u001b[43mkind\u001b[49m\u001b[43m=\u001b[49m\u001b[33;43m'\u001b[39;49m\u001b[33;43mkde\u001b[39;49m\u001b[33;43m'\u001b[39;49m\u001b[43m)\u001b[49m;\n\u001b[32m     22\u001b[39m plt.title(\u001b[33m'\u001b[39m\u001b[33mApreensão de Maconha - RN vs CE\u001b[39m\u001b[33m'\u001b[39m)\n\u001b[32m     23\u001b[39m plt.xlabel(\u001b[33m'\u001b[39m\u001b[33mData de Referência\u001b[39m\u001b[33m'\u001b[39m)\n",
      "\u001b[36mFile \u001b[39m\u001b[32mc:\\Users\\Filipe\\Git\\projects\\data-science-ufrn\\venv\\Lib\\site-packages\\seaborn\\axisgrid.py:2243\u001b[39m, in \u001b[36mjointplot\u001b[39m\u001b[34m(data, x, y, hue, kind, height, ratio, space, dropna, xlim, ylim, color, palette, hue_order, hue_norm, marginal_ticks, joint_kws, marginal_kws, **kwargs)\u001b[39m\n\u001b[32m   2240\u001b[39m     dropna = \u001b[38;5;28;01mTrue\u001b[39;00m\n\u001b[32m   2242\u001b[39m \u001b[38;5;66;03m# Initialize the JointGrid object\u001b[39;00m\n\u001b[32m-> \u001b[39m\u001b[32m2243\u001b[39m grid = \u001b[43mJointGrid\u001b[49m\u001b[43m(\u001b[49m\n\u001b[32m   2244\u001b[39m \u001b[43m    \u001b[49m\u001b[43mdata\u001b[49m\u001b[43m=\u001b[49m\u001b[43mdata\u001b[49m\u001b[43m,\u001b[49m\u001b[43m \u001b[49m\u001b[43mx\u001b[49m\u001b[43m=\u001b[49m\u001b[43mx\u001b[49m\u001b[43m,\u001b[49m\u001b[43m \u001b[49m\u001b[43my\u001b[49m\u001b[43m=\u001b[49m\u001b[43my\u001b[49m\u001b[43m,\u001b[49m\u001b[43m \u001b[49m\u001b[43mhue\u001b[49m\u001b[43m=\u001b[49m\u001b[43mhue\u001b[49m\u001b[43m,\u001b[49m\n\u001b[32m   2245\u001b[39m \u001b[43m    \u001b[49m\u001b[43mpalette\u001b[49m\u001b[43m=\u001b[49m\u001b[43mpalette\u001b[49m\u001b[43m,\u001b[49m\u001b[43m \u001b[49m\u001b[43mhue_order\u001b[49m\u001b[43m=\u001b[49m\u001b[43mhue_order\u001b[49m\u001b[43m,\u001b[49m\u001b[43m \u001b[49m\u001b[43mhue_norm\u001b[49m\u001b[43m=\u001b[49m\u001b[43mhue_norm\u001b[49m\u001b[43m,\u001b[49m\n\u001b[32m   2246\u001b[39m \u001b[43m    \u001b[49m\u001b[43mdropna\u001b[49m\u001b[43m=\u001b[49m\u001b[43mdropna\u001b[49m\u001b[43m,\u001b[49m\u001b[43m \u001b[49m\u001b[43mheight\u001b[49m\u001b[43m=\u001b[49m\u001b[43mheight\u001b[49m\u001b[43m,\u001b[49m\u001b[43m \u001b[49m\u001b[43mratio\u001b[49m\u001b[43m=\u001b[49m\u001b[43mratio\u001b[49m\u001b[43m,\u001b[49m\u001b[43m \u001b[49m\u001b[43mspace\u001b[49m\u001b[43m=\u001b[49m\u001b[43mspace\u001b[49m\u001b[43m,\u001b[49m\n\u001b[32m   2247\u001b[39m \u001b[43m    \u001b[49m\u001b[43mxlim\u001b[49m\u001b[43m=\u001b[49m\u001b[43mxlim\u001b[49m\u001b[43m,\u001b[49m\u001b[43m \u001b[49m\u001b[43mylim\u001b[49m\u001b[43m=\u001b[49m\u001b[43mylim\u001b[49m\u001b[43m,\u001b[49m\u001b[43m \u001b[49m\u001b[43mmarginal_ticks\u001b[49m\u001b[43m=\u001b[49m\u001b[43mmarginal_ticks\u001b[49m\u001b[43m,\u001b[49m\n\u001b[32m   2248\u001b[39m \u001b[43m\u001b[49m\u001b[43m)\u001b[49m\n\u001b[32m   2250\u001b[39m \u001b[38;5;28;01mif\u001b[39;00m grid.hue \u001b[38;5;129;01mis\u001b[39;00m \u001b[38;5;129;01mnot\u001b[39;00m \u001b[38;5;28;01mNone\u001b[39;00m:\n\u001b[32m   2251\u001b[39m     marginal_kws.setdefault(\u001b[33m\"\u001b[39m\u001b[33mlegend\u001b[39m\u001b[33m\"\u001b[39m, \u001b[38;5;28;01mFalse\u001b[39;00m)\n",
      "\u001b[36mFile \u001b[39m\u001b[32mc:\\Users\\Filipe\\Git\\projects\\data-science-ufrn\\venv\\Lib\\site-packages\\seaborn\\axisgrid.py:1728\u001b[39m, in \u001b[36mJointGrid.__init__\u001b[39m\u001b[34m(self, data, x, y, hue, height, ratio, space, palette, hue_order, hue_norm, dropna, xlim, ylim, marginal_ticks)\u001b[39m\n\u001b[32m   1725\u001b[39m     ax_marg_y.xaxis.grid(\u001b[38;5;28;01mFalse\u001b[39;00m)\n\u001b[32m   1727\u001b[39m \u001b[38;5;66;03m# Process the input variables\u001b[39;00m\n\u001b[32m-> \u001b[39m\u001b[32m1728\u001b[39m p = \u001b[43mVectorPlotter\u001b[49m\u001b[43m(\u001b[49m\u001b[43mdata\u001b[49m\u001b[43m=\u001b[49m\u001b[43mdata\u001b[49m\u001b[43m,\u001b[49m\u001b[43m \u001b[49m\u001b[43mvariables\u001b[49m\u001b[43m=\u001b[49m\u001b[38;5;28;43mdict\u001b[39;49m\u001b[43m(\u001b[49m\u001b[43mx\u001b[49m\u001b[43m=\u001b[49m\u001b[43mx\u001b[49m\u001b[43m,\u001b[49m\u001b[43m \u001b[49m\u001b[43my\u001b[49m\u001b[43m=\u001b[49m\u001b[43my\u001b[49m\u001b[43m,\u001b[49m\u001b[43m \u001b[49m\u001b[43mhue\u001b[49m\u001b[43m=\u001b[49m\u001b[43mhue\u001b[49m\u001b[43m)\u001b[49m\u001b[43m)\u001b[49m\n\u001b[32m   1729\u001b[39m plot_data = p.plot_data.loc[:, p.plot_data.notna().any()]\n\u001b[32m   1731\u001b[39m \u001b[38;5;66;03m# Possibly drop NA\u001b[39;00m\n",
      "\u001b[36mFile \u001b[39m\u001b[32mc:\\Users\\Filipe\\Git\\projects\\data-science-ufrn\\venv\\Lib\\site-packages\\seaborn\\_base.py:634\u001b[39m, in \u001b[36mVectorPlotter.__init__\u001b[39m\u001b[34m(self, data, variables)\u001b[39m\n\u001b[32m    629\u001b[39m \u001b[38;5;66;03m# var_ordered is relevant only for categorical axis variables, and may\u001b[39;00m\n\u001b[32m    630\u001b[39m \u001b[38;5;66;03m# be better handled by an internal axis information object that tracks\u001b[39;00m\n\u001b[32m    631\u001b[39m \u001b[38;5;66;03m# such information and is set up by the scale_* methods. The analogous\u001b[39;00m\n\u001b[32m    632\u001b[39m \u001b[38;5;66;03m# information for numeric axes would be information about log scales.\u001b[39;00m\n\u001b[32m    633\u001b[39m \u001b[38;5;28mself\u001b[39m._var_ordered = {\u001b[33m\"\u001b[39m\u001b[33mx\u001b[39m\u001b[33m\"\u001b[39m: \u001b[38;5;28;01mFalse\u001b[39;00m, \u001b[33m\"\u001b[39m\u001b[33my\u001b[39m\u001b[33m\"\u001b[39m: \u001b[38;5;28;01mFalse\u001b[39;00m}  \u001b[38;5;66;03m# alt., used DefaultDict\u001b[39;00m\n\u001b[32m--> \u001b[39m\u001b[32m634\u001b[39m \u001b[38;5;28;43mself\u001b[39;49m\u001b[43m.\u001b[49m\u001b[43massign_variables\u001b[49m\u001b[43m(\u001b[49m\u001b[43mdata\u001b[49m\u001b[43m,\u001b[49m\u001b[43m \u001b[49m\u001b[43mvariables\u001b[49m\u001b[43m)\u001b[49m\n\u001b[32m    636\u001b[39m \u001b[38;5;66;03m# TODO Lots of tests assume that these are called to initialize the\u001b[39;00m\n\u001b[32m    637\u001b[39m \u001b[38;5;66;03m# mappings to default values on class initialization. I'd prefer to\u001b[39;00m\n\u001b[32m    638\u001b[39m \u001b[38;5;66;03m# move away from that and only have a mapping when explicitly called.\u001b[39;00m\n\u001b[32m    639\u001b[39m \u001b[38;5;28;01mfor\u001b[39;00m var \u001b[38;5;129;01min\u001b[39;00m [\u001b[33m\"\u001b[39m\u001b[33mhue\u001b[39m\u001b[33m\"\u001b[39m, \u001b[33m\"\u001b[39m\u001b[33msize\u001b[39m\u001b[33m\"\u001b[39m, \u001b[33m\"\u001b[39m\u001b[33mstyle\u001b[39m\u001b[33m\"\u001b[39m]:\n",
      "\u001b[36mFile \u001b[39m\u001b[32mc:\\Users\\Filipe\\Git\\projects\\data-science-ufrn\\venv\\Lib\\site-packages\\seaborn\\_base.py:679\u001b[39m, in \u001b[36mVectorPlotter.assign_variables\u001b[39m\u001b[34m(self, data, variables)\u001b[39m\n\u001b[32m    674\u001b[39m \u001b[38;5;28;01melse\u001b[39;00m:\n\u001b[32m    675\u001b[39m     \u001b[38;5;66;03m# When dealing with long-form input, use the newer PlotData\u001b[39;00m\n\u001b[32m    676\u001b[39m     \u001b[38;5;66;03m# object (internal but introduced for the objects interface)\u001b[39;00m\n\u001b[32m    677\u001b[39m     \u001b[38;5;66;03m# to centralize / standardize data consumption logic.\u001b[39;00m\n\u001b[32m    678\u001b[39m     \u001b[38;5;28mself\u001b[39m.input_format = \u001b[33m\"\u001b[39m\u001b[33mlong\u001b[39m\u001b[33m\"\u001b[39m\n\u001b[32m--> \u001b[39m\u001b[32m679\u001b[39m     plot_data = \u001b[43mPlotData\u001b[49m\u001b[43m(\u001b[49m\u001b[43mdata\u001b[49m\u001b[43m,\u001b[49m\u001b[43m \u001b[49m\u001b[43mvariables\u001b[49m\u001b[43m)\u001b[49m\n\u001b[32m    680\u001b[39m     frame = plot_data.frame\n\u001b[32m    681\u001b[39m     names = plot_data.names\n",
      "\u001b[36mFile \u001b[39m\u001b[32mc:\\Users\\Filipe\\Git\\projects\\data-science-ufrn\\venv\\Lib\\site-packages\\seaborn\\_core\\data.py:58\u001b[39m, in \u001b[36mPlotData.__init__\u001b[39m\u001b[34m(self, data, variables)\u001b[39m\n\u001b[32m     51\u001b[39m \u001b[38;5;28;01mdef\u001b[39;00m\u001b[38;5;250m \u001b[39m\u001b[34m__init__\u001b[39m(\n\u001b[32m     52\u001b[39m     \u001b[38;5;28mself\u001b[39m,\n\u001b[32m     53\u001b[39m     data: DataSource,\n\u001b[32m     54\u001b[39m     variables: \u001b[38;5;28mdict\u001b[39m[\u001b[38;5;28mstr\u001b[39m, VariableSpec],\n\u001b[32m     55\u001b[39m ):\n\u001b[32m     57\u001b[39m     data = handle_data_source(data)\n\u001b[32m---> \u001b[39m\u001b[32m58\u001b[39m     frame, names, ids = \u001b[38;5;28;43mself\u001b[39;49m\u001b[43m.\u001b[49m\u001b[43m_assign_variables\u001b[49m\u001b[43m(\u001b[49m\u001b[43mdata\u001b[49m\u001b[43m,\u001b[49m\u001b[43m \u001b[49m\u001b[43mvariables\u001b[49m\u001b[43m)\u001b[49m\n\u001b[32m     60\u001b[39m     \u001b[38;5;28mself\u001b[39m.frame = frame\n\u001b[32m     61\u001b[39m     \u001b[38;5;28mself\u001b[39m.names = names\n",
      "\u001b[36mFile \u001b[39m\u001b[32mc:\\Users\\Filipe\\Git\\projects\\data-science-ufrn\\venv\\Lib\\site-packages\\seaborn\\_core\\data.py:232\u001b[39m, in \u001b[36mPlotData._assign_variables\u001b[39m\u001b[34m(self, data, variables)\u001b[39m\n\u001b[32m    230\u001b[39m     \u001b[38;5;28;01melse\u001b[39;00m:\n\u001b[32m    231\u001b[39m         err += \u001b[33m\"\u001b[39m\u001b[33mAn entry with this name does not appear in `data`.\u001b[39m\u001b[33m\"\u001b[39m\n\u001b[32m--> \u001b[39m\u001b[32m232\u001b[39m     \u001b[38;5;28;01mraise\u001b[39;00m \u001b[38;5;167;01mValueError\u001b[39;00m(err)\n\u001b[32m    234\u001b[39m \u001b[38;5;28;01melse\u001b[39;00m:\n\u001b[32m    235\u001b[39m \n\u001b[32m    236\u001b[39m     \u001b[38;5;66;03m# Otherwise, assume the value somehow represents data\u001b[39;00m\n\u001b[32m    237\u001b[39m \n\u001b[32m    238\u001b[39m     \u001b[38;5;66;03m# Ignore empty data structures\u001b[39;00m\n\u001b[32m    239\u001b[39m     \u001b[38;5;28;01mif\u001b[39;00m \u001b[38;5;28misinstance\u001b[39m(val, Sized) \u001b[38;5;129;01mand\u001b[39;00m \u001b[38;5;28mlen\u001b[39m(val) == \u001b[32m0\u001b[39m:\n",
      "\u001b[31mValueError\u001b[39m: Could not interpret value `x` for `x`. An entry with this name does not appear in `data`."
     ]
    },
    {
     "data": {
      "image/png": "[encoded data removed]",
      "text/plain": [
       "<Figure size 1200x600 with 1 Axes>"
      ]
     },
     "metadata": {},
     "output_type": "display_data"
    },
    {
     "data": {
      "image/png": "[encoded data removed]",
      "text/plain": [
       "<Figure size 600x600 with 3 Axes>"
      ]
     },
     "metadata": {},
     "output_type": "display_data"
    }
   ],
   "source": [
    "import seaborn as sns\n",
    "import matplotlib.pyplot as plt\n",
    "%matplotlib inline\n",
    "sns.set_theme()\n",
    "# Filtra apenas as linhas de 'uf' RN e CE\n",
    "df_maconha = dados_estaduais_agregados[dados_estaduais_agregados['uf'].isin(['RN', 'CE'])].copy()\n",
    "\n",
    "# Converte a coluna de peso para float (substitui vírgula por ponto)\n",
    "df_maconha['apreensao de maconha'] = df_maconha['apreensao de maconha'].str.replace(',', '.').astype(float)\n",
    "df_maconha['apreensao de cocaina'] = df_maconha['apreensao de cocaina'].str.replace(',', '.').astype(float)\n",
    "\n",
    "# Plota o gráfico\n",
    "plt.figure(figsize=(12, 6))\n",
    "sns.lineplot(\n",
    "    data=df_maconha,\n",
    "    x='data_referencia',\n",
    "    y='apreensao de maconha',\n",
    "    hue='uf',\n",
    ")\n",
    "with sns.axes_style('white'):\n",
    "    sns.jointplot(x=\"tráfico de drogas\", y=\"arma de fogo apreendida\", data=df_maconha[['tráfico de drogas', 'arma de fogo apreendida']], kind='kde');\n",
    "plt.title('Apreensão de Maconha - RN vs CE')\n",
    "plt.xlabel('Data de Referência')\n",
    "plt.ylabel('Apreensão de Maconha (kg)')\n",
    "plt.tight_layout()\n",
    "plt.show()"
   ]
  },
  {
   "cell_type": "code",
   "execution_count": 126,
   "id": "6c066936",
   "metadata": {},
   "outputs": [
    {
     "data": {
      "application/vnd.jupyter.widget-view+json": {
       "model_id": "8e15a66742e640ebacda1e5ea51a26cf",
       "version_major": 2,
       "version_minor": 0
      },
      "text/plain": [
       "Summarize dataset:   0%|          | 0/5 [00:00<?, ?it/s]"
      ]
     },
     "metadata": {},
     "output_type": "display_data"
    },
    {
     "name": "stderr",
     "output_type": "stream",
     "text": [
      "100%|██████████| 13/13 [00:00<00:00, 3338.19it/s]\n"
     ]
    },
    {
     "data": {
      "application/vnd.jupyter.widget-view+json": {
       "model_id": "736d2a712eb240bf8c63ae24337e2f25",
       "version_major": 2,
       "version_minor": 0
      },
      "text/plain": [
       "Generate report structure:   0%|          | 0/1 [00:00<?, ?it/s]"
      ]
     },
     "metadata": {},
     "output_type": "display_data"
    },
    {
     "data": {
      "application/vnd.jupyter.widget-view+json": {
       "model_id": "7d33d52b83b24eea86123fe0193b2e75",
       "version_major": 2,
       "version_minor": 0
      },
      "text/plain": [
       "Render HTML:   0%|          | 0/1 [00:00<?, ?it/s]"
      ]
     },
     "metadata": {},
     "output_type": "display_data"
    },
    {
     "data": {
      "application/vnd.jupyter.widget-view+json": {
       "model_id": "2f8ee5a0cb5446bbbd5e834249a4a0e5",
       "version_major": 2,
       "version_minor": 0
      },
      "text/plain": [
       "Export report to file:   0%|          | 0/1 [00:00<?, ?it/s]"
      ]
     },
     "metadata": {},
     "output_type": "display_data"
    }
   ],
   "source": [
    "ProfileReport(dados_estaduais_agregados, title=\"Dados dos Estados\", explorative=True).to_file(\"relatorio_df_estados.html\")"
   ]
  }
 ],
 "metadata": {
  "kernelspec": {
   "display_name": "venv",
   "language": "python",
   "name": "python3"
  },
  "language_info": {
   "codemirror_mode": {
    "name": "ipython",
    "version": 3
   },
   "file_extension": ".py",
   "mimetype": "text/x-python",
   "name": "python",
   "nbconvert_exporter": "python",
   "pygments_lexer": "ipython3",
   "version": "3.11.0"
  }
 },
 "nbformat": 4,
 "nbformat_minor": 5
}
